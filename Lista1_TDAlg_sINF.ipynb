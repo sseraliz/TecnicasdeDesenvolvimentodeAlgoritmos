{
  "nbformat": 4,
  "nbformat_minor": 0,
  "metadata": {
    "colab": {
      "provenance": [],
      "include_colab_link": true
    },
    "kernelspec": {
      "name": "python3",
      "display_name": "Python 3"
    },
    "language_info": {
      "name": "python"
    }
  },
  "cells": [
    {
      "cell_type": "markdown",
      "metadata": {
        "id": "view-in-github",
        "colab_type": "text"
      },
      "source": [
        "<a href=\"https://colab.research.google.com/github/sseraliz/TecnicasdeDesenvolvimentodeAlgoritmos/blob/main/Lista1_TDAlg_sINF.ipynb\" target=\"_parent\"><img src=\"https://colab.research.google.com/assets/colab-badge.svg\" alt=\"Open In Colab\"/></a>"
      ]
    },
    {
      "cell_type": "markdown",
      "source": [
        "Nossos nomes: Mariana, Pedro Henrique, Mileny, João Miguel\n",
        "\n",
        "Turma: Sistemas de Informação                \n",
        "\n",
        "![gatinho.jpg](data:image/jpeg;base64,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)"
      ],
      "metadata": {
        "id": "7Y89KbzIR_oI"
      }
    },
    {
      "cell_type": "code",
      "source": [
        "\n",
        "print('Meu primeiro programa!!')"
      ],
      "metadata": {
        "colab": {
          "base_uri": "https://localhost:8080/"
        },
        "id": "1p230wKIQq02",
        "outputId": "37f5fee4-1c1f-4269-b49c-3dc3aac5323a"
      },
      "execution_count": null,
      "outputs": [
        {
          "output_type": "stream",
          "name": "stdout",
          "text": [
            "Meu primeiro programa!!\n"
          ]
        }
      ]
    },
    {
      "cell_type": "code",
      "source": [
        "num = int(input('Digite um numero: '))\n",
        "print(num)"
      ],
      "metadata": {
        "colab": {
          "base_uri": "https://localhost:8080/"
        },
        "id": "J1Qc9FZ0cdCq",
        "outputId": "12d9ded0-bfe4-4cce-bf47-91a7f466eacb"
      },
      "execution_count": null,
      "outputs": [
        {
          "output_type": "stream",
          "name": "stdout",
          "text": [
            "Digite um numero: 10\n",
            "10\n"
          ]
        }
      ]
    },
    {
      "cell_type": "code",
      "source": [
        "num = int(input('Digite um numero: '))\n",
        "print('O numero informado foi:\\n',num)"
      ],
      "metadata": {
        "colab": {
          "base_uri": "https://localhost:8080/"
        },
        "id": "kYPxEoTjbQ4x",
        "outputId": "6e02536b-0d08-45a7-97c6-2b69c5835f03"
      },
      "execution_count": null,
      "outputs": [
        {
          "output_type": "stream",
          "name": "stdout",
          "text": [
            "Digite um numero: 10\n",
            "O numero informado foi:\n",
            " 10\n"
          ]
        }
      ]
    },
    {
      "cell_type": "code",
      "source": [
        "num1 = int(input('Digite um numero:'))\n",
        "num2 = int(input('Digite outro numero: '))\n",
        "print(f'Os numeros informados foram: {num1} e {num2}')"
      ],
      "metadata": {
        "colab": {
          "base_uri": "https://localhost:8080/"
        },
        "id": "Jm0RkhdxcocC",
        "outputId": "a5925f12-c785-4236-a6a6-58c6792f8e7a"
      },
      "execution_count": null,
      "outputs": [
        {
          "output_type": "stream",
          "name": "stdout",
          "text": [
            "Digite um numero:45\n",
            "Digite outro numero: 48\n",
            "Os numeros informados foram: 45 e 48\n"
          ]
        }
      ]
    },
    {
      "cell_type": "code",
      "source": [
        "num1 = float(input(\"Digite um numero real: \"))\n",
        "print(f\"Você informou o número {num1}\")"
      ],
      "metadata": {
        "colab": {
          "base_uri": "https://localhost:8080/"
        },
        "id": "VS7W780rdxMe",
        "outputId": "dd17e96b-fb8f-4230-d10b-fd7caa859388"
      },
      "execution_count": null,
      "outputs": [
        {
          "output_type": "stream",
          "name": "stdout",
          "text": [
            "Digite um numero real: 3.5\n",
            "Você informou o número 3.5\n"
          ]
        }
      ]
    },
    {
      "cell_type": "code",
      "source": [
        "num1 = int(input(\"Digite um numero em C°: \"))\n",
        "norget = num1 * 1.8 + 32\n",
        "print(f\"A conversão para F° é: {norget}\")"
      ],
      "metadata": {
        "colab": {
          "base_uri": "https://localhost:8080/"
        },
        "id": "_kUnMxCqeOmV",
        "outputId": "5f47e37f-f283-4b6e-8b6b-ac7c6909e121"
      },
      "execution_count": null,
      "outputs": [
        {
          "output_type": "stream",
          "name": "stdout",
          "text": [
            "Digite um numero em C°: 30\n",
            "A conversão para F° é: 86.0\n"
          ]
        }
      ]
    },
    {
      "cell_type": "code",
      "source": [
        "num1 = int(input(\"Digite um numero inteiro: \"))\n",
        "num2 = float(input(\"Digite um numero real: \"))\n",
        "print(f\"Você informou o número {num1} e {num2}\")"
      ],
      "metadata": {
        "colab": {
          "base_uri": "https://localhost:8080/"
        },
        "id": "apSdzU3OfE2j",
        "outputId": "c7c02665-462b-4e1c-975c-9a7d2aa211d6"
      },
      "execution_count": null,
      "outputs": [
        {
          "output_type": "stream",
          "name": "stdout",
          "text": [
            "Digite um numero inteiro: 2\n",
            "Digite um numero real: 3.5\n",
            "Você informou o número 2 e 3.5\n"
          ]
        }
      ]
    },
    {
      "cell_type": "code",
      "source": [
        "letra = input(\"Digite a primeira letra do seu nome: \")\n",
        "print(f\"Voce digitou a letra {letra}\")"
      ],
      "metadata": {
        "colab": {
          "base_uri": "https://localhost:8080/"
        },
        "id": "AZLveSJZgnpe",
        "outputId": "0454c9cb-4e7f-40cd-e3fb-d382f2bfd625"
      },
      "execution_count": null,
      "outputs": [
        {
          "output_type": "stream",
          "name": "stdout",
          "text": [
            "Digite a primeira letra do seu nome: M\n",
            "Voce digitou a letra M\n"
          ]
        }
      ]
    },
    {
      "cell_type": "code",
      "source": [
        "cor = input(\"Digite sua cor favorita: \")\n",
        "print(f\"Voce gosta da cor {cor}\")"
      ],
      "metadata": {
        "colab": {
          "base_uri": "https://localhost:8080/"
        },
        "id": "__RiHHpRhZxi",
        "outputId": "f6858acb-daad-4fdd-add6-4d5980471af0"
      },
      "execution_count": null,
      "outputs": [
        {
          "output_type": "stream",
          "name": "stdout",
          "text": [
            "Digite sua cor favorita: azul\n",
            "Voce gosta da cor azul\n"
          ]
        }
      ]
    },
    {
      "cell_type": "code",
      "source": [
        "verdura = input('Digite uma verdura:\\n')\n",
        "fruta = input('Digite uma fruta:\\n')\n",
        "print(f'Você gosta de {verdura} e {fruta}')\n"
      ],
      "metadata": {
        "colab": {
          "base_uri": "https://localhost:8080/"
        },
        "id": "k84O06fLiAlH",
        "outputId": "e2a46b25-6784-4534-d98c-ddb37cd49f32"
      },
      "execution_count": null,
      "outputs": [
        {
          "output_type": "stream",
          "name": "stdout",
          "text": [
            "Digite uma verdura:\n",
            "Alface\n",
            "Digite uma fruta:\n",
            "maçã\n",
            "Você gosta de Alface e maçã\n"
          ]
        }
      ]
    },
    {
      "cell_type": "code",
      "source": [],
      "metadata": {
        "id": "GDmDsxykiVAX"
      },
      "execution_count": null,
      "outputs": []
    }
  ]
}